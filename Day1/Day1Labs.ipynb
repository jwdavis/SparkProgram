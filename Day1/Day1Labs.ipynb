{
  "nbformat": 4,
  "nbformat_minor": 0,
  "metadata": {
    "kernelspec": {
      "display_name": "Python 3",
      "language": "python",
      "name": "python3"
    },
    "language_info": {
      "codemirror_mode": {
        "name": "ipython",
        "version": 3
      },
      "file_extension": ".py",
      "mimetype": "text/x-python",
      "name": "python",
      "nbconvert_exporter": "python",
      "pygments_lexer": "ipython3",
      "version": "3.7.3"
    },
    "colab": {
      "name": "Day1Labs.ipynb",
      "version": "0.3.2",
      "provenance": [],
      "include_colab_link": true
    }
  },
  "cells": [
    {
      "cell_type": "markdown",
      "metadata": {
        "id": "view-in-github",
        "colab_type": "text"
      },
      "source": [
        "<a href=\"https://colab.research.google.com/github/jwdavis/SparkProgram/blob/master/Day1/Day1Labs.ipynb\" target=\"_parent\"><img src=\"https://colab.research.google.com/assets/colab-badge.svg\" alt=\"Open In Colab\"/></a>"
      ]
    },
    {
      "cell_type": "code",
      "metadata": {
        "id": "0y57A6nSBv1o",
        "colab_type": "code",
        "colab": {}
      },
      "source": [
        "import sys\n",
        "sys.path.append('/home/student/ROI/SparkProgram')\n",
        "from initspark import *\n",
        "sc, spark, conf = initspark()\n"
      ],
      "execution_count": 0,
      "outputs": []
    },
    {
      "cell_type": "markdown",
      "metadata": {
        "id": "jXJ18W5ABv1w",
        "colab_type": "text"
      },
      "source": [
        "LAB: Put the regions folder found in /home/student/ROI/SparkProgram/datasets/northwind/CSV/regions into HDFS. Read it into an RDD and convert it into a **tuple shape**"
      ]
    },
    {
      "cell_type": "code",
      "metadata": {
        "id": "Mn-bE_ABBv1x",
        "colab_type": "code",
        "colab": {}
      },
      "source": [
        "! hadoop fs -put /home/student/ROI/SparkProgram/datasets/northwind/CSV/regions /regions"
      ],
      "execution_count": 0,
      "outputs": []
    },
    {
      "cell_type": "code",
      "metadata": {
        "id": "d2bsTUzWBv10",
        "colab_type": "code",
        "colab": {},
        "outputId": "3fa18992-b9aa-458e-e78c-90f8eeecb208"
      },
      "source": [
        "regions = sc.textFile('hdfs://localhost:9000/regions')\n",
        "regions = regions.map(lambda x : x.split(',')).map(lambda x : (int(x[0]), x[1]))\n",
        "print (regions.collect())"
      ],
      "execution_count": 0,
      "outputs": [
        {
          "output_type": "stream",
          "text": [
            "[(1, 'Eastern'), (2, 'Western'), (3, 'Northern'), (4, 'Southern')]\n"
          ],
          "name": "stdout"
        }
      ]
    },
    {
      "cell_type": "markdown",
      "metadata": {
        "id": "X12A2q1SBv18",
        "colab_type": "text"
      },
      "source": [
        "LAB: Try to sort region by name and descending order by ID"
      ]
    },
    {
      "cell_type": "code",
      "metadata": {
        "id": "eCX0rfghBv1-",
        "colab_type": "code",
        "colab": {},
        "outputId": "33d4e266-0aaa-4e44-dd9f-26886c5400d5"
      },
      "source": [
        "print (regions.sortByKey(ascending = False).collect())"
      ],
      "execution_count": 0,
      "outputs": [
        {
          "output_type": "stream",
          "text": [
            "[(4, 'Southern'), (3, 'Northern'), (2, 'Western'), (1, 'Eastern')]\n"
          ],
          "name": "stdout"
        }
      ]
    },
    {
      "cell_type": "code",
      "metadata": {
        "id": "IXea0IBiBv2C",
        "colab_type": "code",
        "colab": {},
        "outputId": "bbf1a5ec-2c0a-4213-b4e6-f050a18b91a6"
      },
      "source": [
        "print (regions.sortBy(lambda x : x[1]).collect())"
      ],
      "execution_count": 0,
      "outputs": [
        {
          "output_type": "stream",
          "text": [
            "[(1, 'Eastern'), (3, 'Northern'), (4, 'Southern'), (2, 'Western')]\n"
          ],
          "name": "stdout"
        }
      ]
    },
    {
      "cell_type": "markdown",
      "metadata": {
        "id": "naRhD3-KBv2F",
        "colab_type": "text"
      },
      "source": [
        "LAB: Load territories into HDFS and join it to regions"
      ]
    },
    {
      "cell_type": "code",
      "metadata": {
        "id": "-9eq4tDIBv2G",
        "colab_type": "code",
        "colab": {}
      },
      "source": [
        "! hadoop fs -put /home/student/ROI/SparkProgram/datasets/northwind/CSV/territories /territories"
      ],
      "execution_count": 0,
      "outputs": []
    },
    {
      "cell_type": "code",
      "metadata": {
        "id": "gWaHfNDPBv2J",
        "colab_type": "code",
        "colab": {},
        "outputId": "df81da49-1b1e-4db9-d447-efbb2f90052c"
      },
      "source": [
        "territories = sc.textFile('hdfs://localhost:9000/territories')\n",
        "territories = territories.map(lambda x : x.split(',')).map(lambda x : (int(x[0]), x[1], int(x[2])))\n",
        "print (territories.collect())"
      ],
      "execution_count": 0,
      "outputs": [
        {
          "output_type": "stream",
          "text": [
            "[(1581, 'Westboro', 1), (1730, 'Bedford', 1), (1833, 'Georgetow', 1), (2116, 'Boston', 1), (2139, 'Cambridge', 1), (2184, 'Braintree', 1), (2903, 'Providence', 1), (3049, 'Hollis', 3), (3801, 'Portsmouth', 3), (6897, 'Wilton', 1), (7960, 'Morristown', 1), (8837, 'Edison', 1), (10019, 'New York', 1), (10038, 'New York', 1), (11747, 'Mellvile', 1), (14450, 'Fairport', 1), (19428, 'Philadelphia', 3), (19713, 'Neward', 1), (20852, 'Rockville', 1), (27403, 'Greensboro', 1), (27511, 'Cary', 1), (29202, 'Columbia', 4), (30346, 'Atlanta', 4), (31406, 'Savannah', 4), (32859, 'Orlando', 4), (33607, 'Tampa', 4), (40222, 'Louisville', 1), (44122, 'Beachwood', 3), (45839, 'Findlay', 3), (48075, 'Southfield', 3), (48084, 'Troy', 3), (48304, 'Bloomfield Hills', 3), (53404, 'Racine', 3), (55113, 'Roseville', 3), (55439, 'Minneapolis', 3), (60179, 'Hoffman Estates', 2), (60601, 'Chicago', 2), (72716, 'Bentonville', 4), (75234, 'Dallas', 4), (78759, 'Austin', 4), (80202, 'Denver', 2), (80909, 'Colorado Springs', 2), (85014, 'Phoenix', 2), (85251, 'Scottsdale', 2), (90405, 'Santa Monica', 2), (94025, 'Menlo Park', 2), (94105, 'San Francisco', 2), (95008, 'Campbell', 2), (95054, 'Santa Clara', 2), (95060, 'Santa Cruz', 2), (98004, 'Bellevue', 2), (98052, 'Redmond', 2), (98104, 'Seattle', 2)]\n"
          ],
          "name": "stdout"
        }
      ]
    },
    {
      "cell_type": "code",
      "metadata": {
        "id": "u5nKmyURBv2b",
        "colab_type": "code",
        "colab": {},
        "outputId": "b00b9444-8f45-4344-b4ba-624f72df9302"
      },
      "source": [
        "region_territories = regions.join(territories.map(lambda x : (x[2], (x[0],x[1]))))\n",
        "#print (region_territories.collect())\n",
        "region_territories = region_territories.map(lambda x : (x[0], (x[1][0], *x[1][1])))\n",
        "print (region_territories.collect())\n"
      ],
      "execution_count": 0,
      "outputs": [
        {
          "output_type": "stream",
          "text": [
            "[(2, ('Western', 60179, 'Hoffman Estates')), (2, ('Western', 60601, 'Chicago')), (2, ('Western', 80202, 'Denver')), (2, ('Western', 80909, 'Colorado Springs')), (2, ('Western', 85014, 'Phoenix')), (2, ('Western', 85251, 'Scottsdale')), (2, ('Western', 90405, 'Santa Monica')), (2, ('Western', 94025, 'Menlo Park')), (2, ('Western', 94105, 'San Francisco')), (2, ('Western', 95008, 'Campbell')), (2, ('Western', 95054, 'Santa Clara')), (2, ('Western', 95060, 'Santa Cruz')), (2, ('Western', 98004, 'Bellevue')), (2, ('Western', 98052, 'Redmond')), (2, ('Western', 98104, 'Seattle')), (4, ('Southern', 29202, 'Columbia')), (4, ('Southern', 30346, 'Atlanta')), (4, ('Southern', 31406, 'Savannah')), (4, ('Southern', 32859, 'Orlando')), (4, ('Southern', 33607, 'Tampa')), (4, ('Southern', 72716, 'Bentonville')), (4, ('Southern', 75234, 'Dallas')), (4, ('Southern', 78759, 'Austin')), (1, ('Eastern', 1581, 'Westboro')), (1, ('Eastern', 1730, 'Bedford')), (1, ('Eastern', 1833, 'Georgetow')), (1, ('Eastern', 2116, 'Boston')), (1, ('Eastern', 2139, 'Cambridge')), (1, ('Eastern', 2184, 'Braintree')), (1, ('Eastern', 2903, 'Providence')), (1, ('Eastern', 6897, 'Wilton')), (1, ('Eastern', 7960, 'Morristown')), (1, ('Eastern', 8837, 'Edison')), (1, ('Eastern', 10019, 'New York')), (1, ('Eastern', 10038, 'New York')), (1, ('Eastern', 11747, 'Mellvile')), (1, ('Eastern', 14450, 'Fairport')), (1, ('Eastern', 19713, 'Neward')), (1, ('Eastern', 20852, 'Rockville')), (1, ('Eastern', 27403, 'Greensboro')), (1, ('Eastern', 27511, 'Cary')), (1, ('Eastern', 40222, 'Louisville')), (3, ('Northern', 3049, 'Hollis')), (3, ('Northern', 3801, 'Portsmouth')), (3, ('Northern', 19428, 'Philadelphia')), (3, ('Northern', 44122, 'Beachwood')), (3, ('Northern', 45839, 'Findlay')), (3, ('Northern', 48075, 'Southfield')), (3, ('Northern', 48084, 'Troy')), (3, ('Northern', 48304, 'Bloomfield Hills')), (3, ('Northern', 53404, 'Racine')), (3, ('Northern', 55113, 'Roseville')), (3, ('Northern', 55439, 'Minneapolis'))]\n"
          ],
          "name": "stdout"
        }
      ]
    },
    {
      "cell_type": "markdown",
      "metadata": {
        "id": "VQQJPEyoBv2e",
        "colab_type": "text"
      },
      "source": [
        "LAB: Use the territories RDD to count how many territories are in each region. Display the results in regionID order and then descending order based on the counts"
      ]
    },
    {
      "cell_type": "code",
      "metadata": {
        "id": "yQL8HeeBBv2h",
        "colab_type": "code",
        "colab": {},
        "outputId": "fb676285-6b8c-4eb9-dd7a-f79626263a17"
      },
      "source": [
        "region_count = territories.map(lambda x : (x[2], 1)).reduceByKey(lambda x, y: x + y)\n",
        "print(region_count.sortByKey().collect())"
      ],
      "execution_count": 0,
      "outputs": [
        {
          "output_type": "stream",
          "text": [
            "[(1, 19), (2, 15), (3, 11), (4, 8)]\n"
          ],
          "name": "stdout"
        }
      ]
    },
    {
      "cell_type": "code",
      "metadata": {
        "id": "hwQMZrwEBv2o",
        "colab_type": "code",
        "colab": {},
        "outputId": "c4bf34c9-bce0-4d4f-f6d4-2d68a4f871f8"
      },
      "source": [
        "print(region_count.sortBy(lambda x : x[1], ascending = False).collect())"
      ],
      "execution_count": 0,
      "outputs": [
        {
          "output_type": "stream",
          "text": [
            "[(1, 19), (2, 15), (3, 11), (4, 8)]\n"
          ],
          "name": "stdout"
        }
      ]
    },
    {
      "cell_type": "code",
      "metadata": {
        "id": "-WNL84vLBv2t",
        "colab_type": "code",
        "colab": {}
      },
      "source": [
        ""
      ],
      "execution_count": 0,
      "outputs": []
    }
  ]
}