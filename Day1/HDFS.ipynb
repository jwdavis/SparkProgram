{
  "nbformat": 4,
  "nbformat_minor": 0,
  "metadata": {
    "kernelspec": {
      "display_name": "Python 3",
      "language": "python",
      "name": "python3"
    },
    "language_info": {
      "codemirror_mode": {
        "name": "ipython",
        "version": 3
      },
      "file_extension": ".py",
      "mimetype": "text/x-python",
      "name": "python",
      "nbconvert_exporter": "python",
      "pygments_lexer": "ipython3",
      "version": "3.7.3"
    },
    "colab": {
      "name": "HDFS.ipynb",
      "version": "0.3.2",
      "provenance": [],
      "include_colab_link": true
    }
  },
  "cells": [
    {
      "cell_type": "markdown",
      "metadata": {
        "id": "view-in-github",
        "colab_type": "text"
      },
      "source": [
        "<a href=\"https://colab.research.google.com/github/jwdavis/SparkProgram/blob/master/Day1/HDFS.ipynb\" target=\"_parent\"><img src=\"https://colab.research.google.com/assets/colab-badge.svg\" alt=\"Open In Colab\"/></a>"
      ]
    },
    {
      "cell_type": "markdown",
      "metadata": {
        "id": "I16zAGRc_oZS",
        "colab_type": "text"
      },
      "source": [
        "The Hadoop File System (HDFS) is a distributed file system that spans across multiple nodes and save file in a cluster. It slices large files into blocks and redundantly saves multiple copies across several nodes in the cluster according to the replication factor chosen for the cluster. \n",
        "To examine the contents of the HDFS cluster you either need to install the hadoop tools on a local machine or ssh into a remote machine that has them installed.\n",
        "Try the following commands to see what is currently on the cluster and add new files to it. **hey there**"
      ]
    },
    {
      "cell_type": "code",
      "metadata": {
        "id": "lT6HHfDP_oZV",
        "colab_type": "code",
        "colab": {},
        "outputId": "6f40a416-54ee-4ce3-fcb4-da966e071715"
      },
      "source": [
        "! hadoop fs -ls /"
      ],
      "execution_count": 0,
      "outputs": [
        {
          "output_type": "stream",
          "text": [
            "Found 6 items\r\n",
            "drwxr-xr-x   - student supergroup          0 2019-09-01 19:27 /categories\r\n",
            "drwxr-xr-x   - root    supergroup          0 2019-05-30 21:00 /regions\r\n",
            "drwxr-xr-x   - root    supergroup          0 2019-05-30 21:01 /territories\r\n",
            "drwxr-xr-x   - root    supergroup          0 2019-05-30 19:58 /test\r\n",
            "drwx-wx-wx   - root    supergroup          0 2019-05-30 20:29 /tmp\r\n",
            "drwxr-xr-x   - root    supergroup          0 2019-05-30 20:36 /user\r\n"
          ],
          "name": "stdout"
        }
      ]
    },
    {
      "cell_type": "code",
      "metadata": {
        "id": "QzMq8EZp_oZd",
        "colab_type": "code",
        "colab": {}
      },
      "source": [
        "! hadoop fs -put /home/student/ROI/SparkProgram/datasets/northwind/CSV/categories /"
      ],
      "execution_count": 0,
      "outputs": []
    },
    {
      "cell_type": "code",
      "metadata": {
        "id": "cbo7i0lR_oZg",
        "colab_type": "code",
        "colab": {},
        "outputId": "fbbe33b1-5221-49fe-b32a-b24dbaaeba2f"
      },
      "source": [
        "! hadoop fs -ls /\n",
        "! hadoop fs -ls /categories"
      ],
      "execution_count": 0,
      "outputs": [
        {
          "output_type": "stream",
          "text": [
            "Found 6 items\n",
            "drwxr-xr-x   - student supergroup          0 2019-09-01 19:27 /categories\n",
            "drwxr-xr-x   - root    supergroup          0 2019-05-30 21:00 /regions\n",
            "drwxr-xr-x   - root    supergroup          0 2019-05-30 21:01 /territories\n",
            "drwxr-xr-x   - root    supergroup          0 2019-05-30 19:58 /test\n",
            "drwx-wx-wx   - root    supergroup          0 2019-05-30 20:29 /tmp\n",
            "drwxr-xr-x   - root    supergroup          0 2019-05-30 20:36 /user\n",
            "Found 1 items\n",
            "-rw-r--r--   3 student supergroup        337 2019-09-01 19:27 /categories/categories.csv\n"
          ],
          "name": "stdout"
        }
      ]
    },
    {
      "cell_type": "code",
      "metadata": {
        "id": "Mf91NL-4_oZj",
        "colab_type": "code",
        "colab": {}
      },
      "source": [
        ""
      ],
      "execution_count": 0,
      "outputs": []
    }
  ]
}